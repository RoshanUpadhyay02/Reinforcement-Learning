{
 "cells": [
  {
   "cell_type": "code",
   "execution_count": 2,
   "id": "4f2986ea",
   "metadata": {},
   "outputs": [
    {
     "name": "stdout",
     "output_type": "stream",
     "text": [
      "Machine 1: 0.12433862433862433\n",
      "Machine 2: 0.4958677685950412\n",
      "Machine 3: 0.8996651906253359\n"
     ]
    }
   ],
   "source": [
    "import numpy as np\n",
    "\n",
    "payout_rates = [0.1, 0.5, 0.9]\n",
    "\n",
    "def play_machine(machine):\n",
    "    if np.random.random() < payout_rates[machine]:\n",
    "        return 1\n",
    "    else:\n",
    "        return 0\n",
    "\n",
    "n = 3\n",
    "E = 0.1\n",
    "\n",
    "payout_estimates = np.zeros(n)\n",
    "num_plays = np.zeros(n)\n",
    "\n",
    "for i in range(10000):\n",
    "    if np.random.random() < E:\n",
    "        machine = np.random.randint(n)\n",
    "    else:\n",
    "        machine = np.argmax(payout_estimates)\n",
    "\n",
    "    payout = play_machine(machine)\n",
    "    num_plays[machine] += 1\n",
    "    payout_estimates[machine] += (payout - payout_estimates[machine]) / num_plays[machine]\n",
    "\n",
    "for i in range(n):\n",
    "    print(f\"Machine {i+1}: {payout_estimates[i]}\")"
   ]
  },
  {
   "cell_type": "code",
   "execution_count": null,
   "id": "0b999de0",
   "metadata": {},
   "outputs": [],
   "source": []
  }
 ],
 "metadata": {
  "kernelspec": {
   "display_name": "Python 3 (ipykernel)",
   "language": "python",
   "name": "python3"
  },
  "language_info": {
   "codemirror_mode": {
    "name": "ipython",
    "version": 3
   },
   "file_extension": ".py",
   "mimetype": "text/x-python",
   "name": "python",
   "nbconvert_exporter": "python",
   "pygments_lexer": "ipython3",
   "version": "3.9.13"
  }
 },
 "nbformat": 4,
 "nbformat_minor": 5
}
