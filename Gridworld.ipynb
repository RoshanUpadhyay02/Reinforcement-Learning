{
 "cells": [
  {
   "cell_type": "code",
   "execution_count": 2,
   "id": "7c5fc147",
   "metadata": {},
   "outputs": [
    {
     "name": "stdout",
     "output_type": "stream",
     "text": [
      "Learned Q-value function:\n",
      "[[-7.33354361 -3.59479584 -6.68264442 -6.2226891 ]\n",
      " [-6.41238041 -4.62292822 -6.29279129 -4.97763337]\n",
      " [-9.05196853 -7.63169428 -8.37996458 -8.40473501]\n",
      " [ 0.          0.          0.          0.        ]]\n"
     ]
    }
   ],
   "source": [
    "import numpy as np\n",
    "\n",
    "grid = np.array([[-1, -1, -1, -1],\n",
    "                 [-1, -1, -1, -1],\n",
    "                 [-1, -1, -1, -1],\n",
    "                 [-1, -1, -1, 10]])\n",
    "\n",
    "Q = np.zeros((4, 4))\n",
    "\n",
    "alpha = 0.1\n",
    "y = 0.9\n",
    "ep = 1000\n",
    "\n",
    "for episode in range(ep):\n",
    "    s = np.random.randint(0, 4)\n",
    "    while s != 3:\n",
    "        a = np.random.randint(0, 4)\n",
    "        s1 = np.argmax(Q[a])\n",
    "        r = grid[s, a]\n",
    "\n",
    "        Q[s, a] += alpha * (r + y * np.max(Q[s1]) - Q[s, a])\n",
    "        \n",
    "        s = s1\n",
    "\n",
    "print(\"Learned Q-value function:\")\n",
    "print(Q)"
   ]
  },
  {
   "cell_type": "code",
   "execution_count": null,
   "id": "e529d41c",
   "metadata": {},
   "outputs": [],
   "source": []
  }
 ],
 "metadata": {
  "kernelspec": {
   "display_name": "Python 3 (ipykernel)",
   "language": "python",
   "name": "python3"
  },
  "language_info": {
   "codemirror_mode": {
    "name": "ipython",
    "version": 3
   },
   "file_extension": ".py",
   "mimetype": "text/x-python",
   "name": "python",
   "nbconvert_exporter": "python",
   "pygments_lexer": "ipython3",
   "version": "3.9.13"
  }
 },
 "nbformat": 4,
 "nbformat_minor": 5
}
