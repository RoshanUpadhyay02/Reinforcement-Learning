{
  "nbformat": 4,
  "nbformat_minor": 0,
  "metadata": {
    "colab": {
      "provenance": []
    },
    "kernelspec": {
      "name": "python3",
      "display_name": "Python 3"
    },
    "language_info": {
      "name": "python"
    }
  },
  "cells": [
    {
      "cell_type": "code",
      "execution_count": 13,
      "metadata": {
        "colab": {
          "base_uri": "https://localhost:8080/"
        },
        "id": "-AyxQDxTAM-v",
        "outputId": "ea2fb338-5e60-4f75-ed3a-2407293cd74a"
      },
      "outputs": [
        {
          "output_type": "stream",
          "name": "stdout",
          "text": [
            "Learned Policy: [1 3 1 2 1 1 1 1 3 1 1 1 3 3 3 3]\n"
          ]
        }
      ],
      "source": [
        "import numpy as np\n",
        "\n",
        "ns = 16\n",
        "na = 4\n",
        "gamma = 0.9\n",
        "\n",
        "rs = np.zeros(ns)\n",
        "rs[15] = 10\n",
        "rs[[5, 7, 11, 12]] = -10\n",
        "rs[[2,3,4,6,8,9,10,13,14]] = 1\n",
        "\n",
        "\n",
        "def transition_function(s, a):\n",
        "    if a == 0:\n",
        "        if s >= 4:\n",
        "            return s - 4\n",
        "        else:\n",
        "            return s\n",
        "    elif a == 1:\n",
        "        if s < 12:\n",
        "            return s + 4\n",
        "        else:\n",
        "            return s\n",
        "    elif a == 2:\n",
        "        if s % 4 != 0:\n",
        "            return s - 1\n",
        "        else:\n",
        "            return s\n",
        "    elif a == 3:\n",
        "        if (s + 1) % 4 != 0:\n",
        "            return s + 1\n",
        "        else:\n",
        "            return s\n",
        "\n",
        "Q = np.zeros((ns, na))\n",
        "\n",
        "\n",
        "def policy_evaluation(Q, rs, y, i):\n",
        "    for _ in range(i):\n",
        "        for s in range(ns):\n",
        "            for a in range(na):\n",
        "                s1 = transition_function(s, a)\n",
        "                r = rs[s]\n",
        "                Q[s, a] = r + y * np.max(Q[s1])\n",
        "    return Q\n",
        "\n",
        "def policy_iteration(Q, rs, y, i):\n",
        "    policy = np.argmax(Q, axis=1)\n",
        "    for _ in range(i):\n",
        "        Q = policy_evaluation(Q, rs, y, 1)\n",
        "        policy_stable = True\n",
        "        for s in range(ns):\n",
        "            a = policy[s]\n",
        "            a1 = np.argmax(Q[s])\n",
        "            if a != a1:\n",
        "                policy_stable = False\n",
        "            policy[s] = a1\n",
        "        if policy_stable:\n",
        "            break\n",
        "        if policy[15] == 0:\n",
        "            break\n",
        "    return policy\n",
        "\n",
        "\n",
        "Q = policy_evaluation(Q, rs, y, 1000)\n",
        "\n",
        "policy = policy_iteration(Q, rs, y, 1000)\n",
        "\n",
        "print(\"Learned Policy:\", policy)"
      ]
    }
  ]
}