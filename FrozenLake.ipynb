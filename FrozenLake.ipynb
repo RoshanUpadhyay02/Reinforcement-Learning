{
  "nbformat": 4,
  "nbformat_minor": 0,
  "metadata": {
    "colab": {
      "provenance": []
    },
    "kernelspec": {
      "name": "python3",
      "display_name": "Python 3"
    },
    "language_info": {
      "name": "python"
    }
  },
  "cells": [
    {
      "cell_type": "code",
      "execution_count": 11,
      "metadata": {
        "colab": {
          "base_uri": "https://localhost:8080/"
        },
        "id": "-AyxQDxTAM-v",
        "outputId": "47372e2d-71df-4209-ae60-a06cf1d0c540"
      },
      "outputs": [
        {
          "output_type": "stream",
          "name": "stderr",
          "text": [
            "/usr/local/lib/python3.10/dist-packages/ipykernel/ipkernel.py:283: DeprecationWarning: `should_run_async` will not call `transform_cell` automatically in the future. Please pass the result to `transformed_cell` argument and any exception that happen during thetransform in `preprocessing_exc_tuple` in IPython 7.17 and above.\n",
            "  and should_run_async(code)\n",
            "/usr/local/lib/python3.10/dist-packages/gym/core.py:317: DeprecationWarning: \u001b[33mWARN: Initializing wrapper in old step API which returns one bool instead of two. It is recommended to set `new_step_api=True` to use new step API. This will be the default behaviour in future.\u001b[0m\n",
            "  deprecation(\n",
            "/usr/local/lib/python3.10/dist-packages/gym/wrappers/step_api_compatibility.py:39: DeprecationWarning: \u001b[33mWARN: Initializing environment in old step API which returns one bool instead of two. It is recommended to set `new_step_api=True` to use new step API. This will be the default behaviour in future.\u001b[0m\n",
            "  deprecation(\n"
          ]
        },
        {
          "output_type": "stream",
          "name": "stdout",
          "text": [
            "Learned Q-table:\n",
            "[[0.26503501 0.24079939 0.25507534 0.22355982]\n",
            " [0.12282238 0.11320978 0.08484027 0.17821273]\n",
            " [0.15415254 0.09617729 0.08287225 0.0724749 ]\n",
            " [0.04759319 0.01975511 0.01069747 0.01975086]\n",
            " [0.2744705  0.1233381  0.17348221 0.13372919]\n",
            " [0.         0.         0.         0.        ]\n",
            " [0.13128658 0.03453577 0.07783269 0.00739285]\n",
            " [0.         0.         0.         0.        ]\n",
            " [0.17406452 0.16471276 0.18274955 0.28406599]\n",
            " [0.16106233 0.30210323 0.1438224  0.18036534]\n",
            " [0.28199533 0.23031926 0.19201759 0.13530784]\n",
            " [0.         0.         0.         0.        ]\n",
            " [0.         0.         0.         0.        ]\n",
            " [0.19780377 0.26318793 0.37796404 0.19606153]\n",
            " [0.15299422 0.33492663 0.35130933 0.49658738]\n",
            " [0.         0.         0.         0.        ]]\n"
          ]
        }
      ],
      "source": [
        "import gym\n",
        "import numpy as np\n",
        "\n",
        "env = gym.make('FrozenLake-v1')\n",
        "\n",
        "ns = env.observation_space.n\n",
        "na = env.action_space.n\n",
        "Q = np.zeros((ns, na))\n",
        "\n",
        "ep = 1000\n",
        "spe = 100\n",
        "alpha = 0.1\n",
        "y = 0.99\n",
        "E = 1.0\n",
        "max_E = 1.0\n",
        "min_E = 0.01\n",
        "E_decay = 0.001\n",
        "\n",
        "\n",
        "for episode in range(ep):\n",
        "    s = env.reset()\n",
        "    done = False\n",
        "\n",
        "    for step in range(spe):\n",
        "        exploration_threshold = np.random.uniform(0, 1)\n",
        "        if exploration_threshold > E:\n",
        "            a = np.argmax(Q[s, :])\n",
        "        else:\n",
        "            a = env.action_space.sample()\n",
        "\n",
        "        s1, r, done, _ = env.step(a)\n",
        "\n",
        "        Q[s, a] = (1 - alpha) * Q[s, a] + alpha * (r + y * np.max(Q[s1, :]))\n",
        "\n",
        "        s = s1\n",
        "\n",
        "        if done:\n",
        "            break\n",
        "\n",
        "    E = min_E + \\\n",
        "                       (max_E - min_E) * np.exp(-E_decay * episode)\n",
        "\n",
        "print(\"Learned Q-table:\")\n",
        "print(Q)"
      ]
    }
  ]
}