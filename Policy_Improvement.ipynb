{
  "nbformat": 4,
  "nbformat_minor": 0,
  "metadata": {
    "colab": {
      "provenance": []
    },
    "kernelspec": {
      "name": "python3",
      "display_name": "Python 3"
    },
    "language_info": {
      "name": "python"
    }
  },
  "cells": [
    {
      "cell_type": "code",
      "execution_count": 14,
      "metadata": {
        "colab": {
          "base_uri": "https://localhost:8080/"
        },
        "id": "-AyxQDxTAM-v",
        "outputId": "71ea5108-a605-4a8d-8f38-ecaf8d3964af"
      },
      "outputs": [
        {
          "output_type": "stream",
          "name": "stderr",
          "text": [
            "/usr/local/lib/python3.10/dist-packages/ipykernel/ipkernel.py:283: DeprecationWarning: `should_run_async` will not call `transform_cell` automatically in the future. Please pass the result to `transformed_cell` argument and any exception that happen during thetransform in `preprocessing_exc_tuple` in IPython 7.17 and above.\n",
            "  and should_run_async(code)\n",
            "/usr/local/lib/python3.10/dist-packages/gym/core.py:317: DeprecationWarning: \u001b[33mWARN: Initializing wrapper in old step API which returns one bool instead of two. It is recommended to set `new_step_api=True` to use new step API. This will be the default behaviour in future.\u001b[0m\n",
            "  deprecation(\n",
            "/usr/local/lib/python3.10/dist-packages/gym/wrappers/step_api_compatibility.py:39: DeprecationWarning: \u001b[33mWARN: Initializing environment in old step API which returns one bool instead of two. It is recommended to set `new_step_api=True` to use new step API. This will be the default behaviour in future.\u001b[0m\n",
            "  deprecation(\n"
          ]
        },
        {
          "output_type": "stream",
          "name": "stdout",
          "text": [
            "Random Policy 1 - Average steps per episode: 7.763\n",
            "Random Policy 2 - Average steps per episode: 7.802\n"
          ]
        }
      ],
      "source": [
        "import gym\n",
        "import random\n",
        "\n",
        "env = gym.make(\"FrozenLake-v1\", is_slippery=False)\n",
        "\n",
        "def random_policy_1():\n",
        "    a = env.action_space.sample()\n",
        "    return a\n",
        "\n",
        "def random_policy_2():\n",
        "    a = env.action_space.sample()\n",
        "    return a\n",
        "\n",
        "ep = 1000\n",
        "t1 = 0\n",
        "t2 = 0\n",
        "\n",
        "for episode in range(ep):\n",
        "    s = env.reset()\n",
        "    done = False\n",
        "\n",
        "    while not done:\n",
        "        a = random_policy_1()\n",
        "        s1, r, done, _ = env.step(a)\n",
        "        s = s1\n",
        "        t1 += 1\n",
        "\n",
        "    s = env.reset()\n",
        "    done = False\n",
        "\n",
        "    while not done:\n",
        "        a = random_policy_2()\n",
        "        s1, r, done, _ = env.step(a)\n",
        "        s = s1\n",
        "        t2 += 1\n",
        "\n",
        "print(\"Random Policy 1 - Average steps per episode:\", t1 / ep)\n",
        "print(\"Random Policy 2 - Average steps per episode:\", t2 / ep)"
      ]
    }
  ]
}