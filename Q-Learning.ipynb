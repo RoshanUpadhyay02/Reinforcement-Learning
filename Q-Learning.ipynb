{
 "cells": [
  {
   "cell_type": "code",
   "execution_count": 1,
   "id": "6402951f",
   "metadata": {},
   "outputs": [
    {
     "name": "stdout",
     "output_type": "stream",
     "text": [
      "Learned Q-values:\n",
      "[[-1.00000000e-01  1.22704079e+02]\n",
      " [ 1.25256257e+02  0.00000000e+00]\n",
      " [-1.00000000e-01  1.34386612e+02]\n",
      " [ 1.20690326e+02  0.00000000e+00]]\n"
     ]
    }
   ],
   "source": [
    "import numpy as np\n",
    "\n",
    "ns = 4\n",
    "na = 2\n",
    "Q = np.zeros((ns, na))\n",
    "\n",
    "rs = np.array([\n",
    "    [-1, 0],\n",
    "    [0, -1],\n",
    "    [-1, 10],\n",
    "    [0, 0]\n",
    "])\n",
    "\n",
    "alpha = 0.1\n",
    "y = 0.99\n",
    "ep = 1000\n",
    "ms = 100\n",
    "\n",
    "for e in range(ep):\n",
    "    s = np.random.randint(ns)\n",
    "    \n",
    "    for step in range(ms):\n",
    "        a = np.argmax(Q[s, :])\n",
    "        \n",
    "        s1 = np.random.randint(ns) \n",
    "        r = rs[s, a]\n",
    "        \n",
    "        Q[s, a] += alpha * (r + y * np.max(Q[s1, :]) - Q[s, a])\n",
    "        \n",
    "        s = s1\n",
    "        \n",
    "        if s == 3:\n",
    "            break\n",
    "\n",
    "print(\"Learned Q-values:\")\n",
    "print(Q)"
   ]
  },
  {
   "cell_type": "code",
   "execution_count": null,
   "id": "74e23eec",
   "metadata": {},
   "outputs": [],
   "source": []
  }
 ],
 "metadata": {
  "kernelspec": {
   "display_name": "Python 3 (ipykernel)",
   "language": "python",
   "name": "python3"
  },
  "language_info": {
   "codemirror_mode": {
    "name": "ipython",
    "version": 3
   },
   "file_extension": ".py",
   "mimetype": "text/x-python",
   "name": "python",
   "nbconvert_exporter": "python",
   "pygments_lexer": "ipython3",
   "version": "3.9.13"
  }
 },
 "nbformat": 4,
 "nbformat_minor": 5
}
