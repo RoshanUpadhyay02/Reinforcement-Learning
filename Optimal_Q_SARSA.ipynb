{
 "cells": [
  {
   "cell_type": "code",
   "execution_count": 5,
   "id": "f93d9984",
   "metadata": {},
   "outputs": [
    {
     "name": "stdout",
     "output_type": "stream",
     "text": [
      "Optimal Q-values:\n",
      "[[[-6.99569155 -6.1653007  -6.85327504 -6.04434358]\n",
      "  [-6.09561361 -5.17112676 -5.60441876 -5.21134399]\n",
      "  [-5.13798967 -4.16398053 -4.37901857 -4.08901964]\n",
      "  [-3.73321459 -3.3744685  -3.3956001  -3.22928907]]\n",
      "\n",
      " [[-5.67245381 -5.14031036 -6.11724969 -5.11694262]\n",
      "  [-5.37893741 -4.19746097 -4.68914998 -4.17801622]\n",
      "  [-4.26195295 -3.04806226 -3.85343142 -3.21080451]\n",
      "  [-3.56080976 -2.85813131 -3.14189454 -2.13025714]]\n",
      "\n",
      " [[-4.45602901 -4.21880023 -4.69280184 -4.11010756]\n",
      "  [-4.21017006 -3.1529681  -4.45343547 -3.25184615]\n",
      "  [-3.69078535 -2.05457568 -2.82078214 -2.35367232]\n",
      "  [-2.83707858 -1.69402648 -2.63673445 -1.        ]]\n",
      "\n",
      " [[-3.31220627 -3.15554696 -3.83958082 -3.40546491]\n",
      "  [-2.91610219 -2.23173359 -3.19180361 -2.47352598]\n",
      "  [-2.64912203 -1.         -2.66973992 -1.81877111]\n",
      "  [ 0.          0.          0.          0.        ]]]\n"
     ]
    }
   ],
   "source": [
    "import numpy as np\n",
    "\n",
    "w = 4\n",
    "h = 4\n",
    "na = 4\n",
    "\n",
    "ep = 1000\n",
    "spe = 100\n",
    "alpha = 0.1\n",
    "y = 0.99\n",
    "E = 0.1\n",
    "\n",
    "Q = np.zeros((w, h, na))\n",
    "\n",
    "def epsilon_greedy(s, E):\n",
    "    if np.random.uniform() < E:\n",
    "        a = np.random.randint(na)\n",
    "    else:\n",
    "        a = np.argmax(Q[s[0], s[1], :])\n",
    "    return a\n",
    "\n",
    "\n",
    "for episode in range(ep):\n",
    "    s = (0, 0)  # Start state\n",
    "    a = epsilon_greedy(s, E)\n",
    "\n",
    "    for step in range(spe):\n",
    "        if a == 0:\n",
    "            s1 = (s[0], max(s[1] - 1, 0))\n",
    "        elif a == 1:\n",
    "            s1 = (s[0], min(s[1] + 1, h - 1))\n",
    "        elif a == 2:\n",
    "            s1 = (max(s[0] - 1, 0), s[1])\n",
    "        else:\n",
    "            s1 = (min(s[0] + 1, w - 1), s[1])\n",
    "\n",
    "        r = -1\n",
    "\n",
    "        a1 = epsilon_greedy(s1, E)\n",
    "\n",
    "        Q[s[0], s[1], a] += alpha * (r + y * Q[s1[0], s1[1], a1] - Q[s[0], s[1], a])\n",
    "\n",
    "        s = s1\n",
    "        a = a1\n",
    "\n",
    "        if s == (w - 1, h - 1):\n",
    "            break\n",
    "\n",
    "print(\"Optimal Q-values:\")\n",
    "print(Q)"
   ]
  },
  {
   "cell_type": "code",
   "execution_count": null,
   "id": "82e4b78a",
   "metadata": {},
   "outputs": [],
   "source": []
  }
 ],
 "metadata": {
  "kernelspec": {
   "display_name": "Python 3 (ipykernel)",
   "language": "python",
   "name": "python3"
  },
  "language_info": {
   "codemirror_mode": {
    "name": "ipython",
    "version": 3
   },
   "file_extension": ".py",
   "mimetype": "text/x-python",
   "name": "python",
   "nbconvert_exporter": "python",
   "pygments_lexer": "ipython3",
   "version": "3.9.13"
  }
 },
 "nbformat": 4,
 "nbformat_minor": 5
}
